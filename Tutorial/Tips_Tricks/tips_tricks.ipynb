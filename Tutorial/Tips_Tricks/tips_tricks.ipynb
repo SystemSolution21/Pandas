{
 "cells": [
  {
   "cell_type": "code",
   "execution_count": 1,
   "metadata": {},
   "outputs": [],
   "source": [
    "import pandas as pd\n",
    "import numpy as np"
   ]
  },
  {
   "cell_type": "code",
   "execution_count": 4,
   "metadata": {},
   "outputs": [
    {
     "name": "stdout",
     "output_type": "stream",
     "text": [
      "  key  value_x  value_y      _merge\n",
      "0   A      1.0      NaN   left_only\n",
      "1   B      2.0      4.0        both\n",
      "2   C      3.0      5.0        both\n",
      "3   D      NaN      6.0  right_only\n"
     ]
    }
   ],
   "source": [
    "# 1. Merging with the Indicator Argument\n",
    "df1 = pd.DataFrame(data={\"key\": [\"A\", \"B\", \"C\"], \"value\": [1, 2, 3]})\n",
    "df2 = pd.DataFrame(data={\"key\": [\"B\", \"C\", \"D\"], \"value\": [4, 5, 6]})\n",
    "\n",
    "merged: pd.DataFrame = pd.merge(\n",
    "    left=df1, right=df2, on=\"key\", how=\"outer\", indicator=True\n",
    ")\n",
    "\n",
    "print(merged)\n"
   ]
  },
  {
   "cell_type": "code",
   "execution_count": 7,
   "metadata": {},
   "outputs": [
    {
     "name": "stdout",
     "output_type": "stream",
     "text": [
      "   Quantity  Price  Total\n",
      "1        20    250   5000\n",
      "2        15    150   2250\n",
      "3        10    200   2000\n",
      "4        10    100   1000\n",
      "[100 150 200]\n"
     ]
    }
   ],
   "source": [
    "# 2. Custom chaining with pipe\n",
    "df: pd.DataFrame = pd.DataFrame(\n",
    "    data={\n",
    "        \"Quantity\": [10, 15, 10, 20],\n",
    "        \"Price\": [100, 150, 200, 250],\n",
    "    }\n",
    ")\n",
    "\n",
    "\n",
    "def calc_total(df) -> pd.DataFrame:\n",
    "    df[\"Total\"] = df[\"Quantity\"] * df[\"Price\"]\n",
    "    return df\n",
    "\n",
    "\n",
    "result: pd.DataFrame = (\n",
    "    df.pipe(func=calc_total)\n",
    "    .query(expr=\"Total > 100\")\n",
    "    .sort_values(by=\"Total\", ascending=False)\n",
    ")\n",
    "\n",
    "# Sorting index\n",
    "index_range: pd.RangeIndex = pd.RangeIndex(start=1, stop=len(result) + 1, step=1)\n",
    "result.index = index_range\n",
    "print(result)\n",
    "\n",
    "price = np.arange(100, 250, step=50, dtype=np.int32)\n",
    "print(price)"
   ]
  },
  {
   "cell_type": "code",
   "execution_count": 8,
   "metadata": {},
   "outputs": [
    {
     "name": "stdout",
     "output_type": "stream",
     "text": [
      "   ID     Name\n",
      "0   1    Alice\n",
      "1   2      Bob\n",
      "2   2      Bob\n",
      "3   3  Charlie\n",
      "4   4    David\n",
      "5   4    David\n",
      "   ID   Name\n",
      "1   2    Bob\n",
      "2   2    Bob\n",
      "4   4  David\n",
      "5   4  David\n",
      "   ID     Name\n",
      "0   1    Alice\n",
      "1   2      Bob\n",
      "3   3  Charlie\n",
      "4   4    David\n"
     ]
    }
   ],
   "source": [
    "# 3. Identify Duplicates and Drop Duplicates\n",
    "df = pd.DataFrame(\n",
    "    data={\n",
    "        \"ID\": [1, 2, 2, 3, 4, 4],\n",
    "        \"Name\": [\"Alice\", \"Bob\", \"Bob\", \"Charlie\", \"David\", \"David\"],\n",
    "    }\n",
    ")\n",
    "print(df)\n",
    "\n",
    "duplicated: pd.DataFrame = df[df.duplicated(subset=\"ID\", keep=False)]\n",
    "print(duplicated)\n",
    "\n",
    "drop_duplicates: pd.DataFrame = df.drop_duplicates(subset=\"ID\")\n",
    "print(drop_duplicates)\n"
   ]
  },
  {
   "cell_type": "code",
   "execution_count": 9,
   "metadata": {},
   "outputs": [
    {
     "name": "stdout",
     "output_type": "stream",
     "text": [
      "   Age  Income\n",
      "0   22   25000\n",
      "1   25   27000\n",
      "2   29   30000\n",
      "3   34   32000\n",
      "4   45   40000\n",
      "5   52   50000\n",
      "6   61   60000\n",
      "7   70   70000\n",
      "8   80   80000\n",
      "9   90   90000\n",
      "   Age  Income    Age Group\n",
      "0   22   25000  Young Adult\n",
      "1   25   27000  Young Adult\n",
      "2   29   30000  Young Adult\n",
      "3   34   32000  Young Adult\n",
      "4   45   40000        Adult\n",
      "5   52   50000        Adult\n",
      "6   61   60000       Senior\n",
      "7   70   70000       Senior\n",
      "8   80   80000       Senior\n",
      "9   90   90000       Senior\n",
      "   Age  Income    Age Group Income Quartile\n",
      "0   22   25000  Young Adult              Q1\n",
      "1   25   27000  Young Adult              Q1\n",
      "2   29   30000  Young Adult              Q1\n",
      "3   34   32000  Young Adult              Q2\n",
      "4   45   40000        Adult              Q2\n",
      "5   52   50000        Adult              Q3\n",
      "6   61   60000       Senior              Q3\n",
      "7   70   70000       Senior              Q4\n",
      "8   80   80000       Senior              Q4\n",
      "9   90   90000       Senior              Q4\n"
     ]
    }
   ],
   "source": [
    "# 4. Binning Data with cut and qcut\n",
    "data: dict[str, list[int]] = {\n",
    "    \"Age\": [22, 25, 29, 34, 45, 52, 61, 70, 80, 90],\n",
    "    \"Income\": [25000, 27000, 30000, 32000, 40000, 50000, 60000, 70000, 80000, 90000],\n",
    "}\n",
    "df = pd.DataFrame(data=data)\n",
    "print(df)\n",
    "\n",
    "# Equal-width binning for Age\n",
    "age_bins: list[int] = [0, 18, 35, 60, 100]\n",
    "age_labels: list[str] = [\"Child\", \"Young Adult\", \"Adult\", \"Senior\"]\n",
    "df[\"Age Group\"] = pd.cut(x=df[\"Age\"], bins=age_bins, labels=age_labels)\n",
    "print(df)\n",
    "\n",
    "# Quantile-based binning for Income\n",
    "df[\"Income Quartile\"] = pd.qcut(df[\"Income\"], 4, labels=[\"Q1\", \"Q2\", \"Q3\", \"Q4\"])\n",
    "print(df)\n"
   ]
  },
  {
   "cell_type": "code",
   "execution_count": 10,
   "metadata": {},
   "outputs": [
    {
     "name": "stdout",
     "output_type": "stream",
     "text": [
      "        Date  Value\n",
      "0 2024-01-01    1.0\n",
      "1 2024-01-02    NaN\n",
      "2 2024-01-03    NaN\n",
      "3 2024-01-04    4.0\n",
      "4 2024-01-05    5.0\n",
      "        Date  Value  Interpolated\n",
      "0 2024-01-01    1.0           1.0\n",
      "1 2024-01-02    NaN           2.0\n",
      "2 2024-01-03    NaN           3.0\n",
      "3 2024-01-04    4.0           4.0\n",
      "4 2024-01-05    5.0           5.0\n"
     ]
    }
   ],
   "source": [
    "# 5. Interpolating Data\n",
    "df: pd.DataFrame = pd.DataFrame(\n",
    "    data={\n",
    "        \"Date\": pd.date_range(start=\"1/1/2024\", periods=5, freq=\"D\"),\n",
    "        \"Value\": [1, np.nan, np.nan, 4, 5],\n",
    "    }\n",
    ")\n",
    "print(df)\n",
    "\n",
    "df[\"Interpolated\"] = df[\"Value\"].interpolate(method=\"linear\")\n",
    "print(df)\n"
   ]
  }
 ],
 "metadata": {
  "kernelspec": {
   "display_name": ".venv",
   "language": "python",
   "name": "python3"
  },
  "language_info": {
   "codemirror_mode": {
    "name": "ipython",
    "version": 3
   },
   "file_extension": ".py",
   "mimetype": "text/x-python",
   "name": "python",
   "nbconvert_exporter": "python",
   "pygments_lexer": "ipython3",
   "version": "3.12.8"
  }
 },
 "nbformat": 4,
 "nbformat_minor": 2
}
